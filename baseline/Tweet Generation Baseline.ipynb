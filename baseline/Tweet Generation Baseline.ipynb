{
 "cells": [
  {
   "cell_type": "markdown",
   "metadata": {},
   "source": [
    "# Tweet Generation Baseline"
   ]
  },
  {
   "cell_type": "code",
   "execution_count": 12,
   "metadata": {},
   "outputs": [
    {
     "name": "stdout",
     "output_type": "stream",
     "text": [
      "0.8.1\n"
     ]
    }
   ],
   "source": [
    "from torchvision import __version__\n",
    "print(__version__)"
   ]
  },
  {
   "cell_type": "code",
   "execution_count": 2,
   "metadata": {},
   "outputs": [
    {
     "data": {
      "text/html": [
       "<div>\n",
       "<style scoped>\n",
       "    .dataframe tbody tr th:only-of-type {\n",
       "        vertical-align: middle;\n",
       "    }\n",
       "\n",
       "    .dataframe tbody tr th {\n",
       "        vertical-align: top;\n",
       "    }\n",
       "\n",
       "    .dataframe thead th {\n",
       "        text-align: right;\n",
       "    }\n",
       "</style>\n",
       "<table border=\"1\" class=\"dataframe\">\n",
       "  <thead>\n",
       "    <tr style=\"text-align: right;\">\n",
       "      <th></th>\n",
       "      <th>0</th>\n",
       "      <th>1</th>\n",
       "      <th>2</th>\n",
       "      <th>3</th>\n",
       "      <th>4</th>\n",
       "      <th>5</th>\n",
       "      <th>6</th>\n",
       "    </tr>\n",
       "  </thead>\n",
       "  <tbody>\n",
       "    <tr>\n",
       "      <th>0</th>\n",
       "      <td>As a thank you to Tesla short sellers, we name...</td>\n",
       "      <td>NaN</td>\n",
       "      <td>NaN</td>\n",
       "      <td>NaN</td>\n",
       "      <td>NaN</td>\n",
       "      <td>NaN</td>\n",
       "      <td>NaN</td>\n",
       "    </tr>\n",
       "    <tr>\n",
       "      <th>1</th>\n",
       "      <td>R2D2’s Dad</td>\n",
       "      <td>NaN</td>\n",
       "      <td>NaN</td>\n",
       "      <td>NaN</td>\n",
       "      <td>NaN</td>\n",
       "      <td>NaN</td>\n",
       "      <td>NaN</td>\n",
       "    </tr>\n",
       "    <tr>\n",
       "      <th>2</th>\n",
       "      <td>Amazing work by Tesla team. Built entire new g...</td>\n",
       "      <td>NaN</td>\n",
       "      <td>NaN</td>\n",
       "      <td>NaN</td>\n",
       "      <td>NaN</td>\n",
       "      <td>NaN</td>\n",
       "      <td>NaN</td>\n",
       "    </tr>\n",
       "    <tr>\n",
       "      <th>3</th>\n",
       "      <td>.@cgpgrey drives a Tesla across the loneliest ...</td>\n",
       "      <td>NaN</td>\n",
       "      <td>NaN</td>\n",
       "      <td>NaN</td>\n",
       "      <td>NaN</td>\n",
       "      <td>NaN</td>\n",
       "      <td>NaN</td>\n",
       "    </tr>\n",
       "    <tr>\n",
       "      <th>4</th>\n",
       "      <td>We don’t make much money on this product, so $...</td>\n",
       "      <td>NaN</td>\n",
       "      <td>NaN</td>\n",
       "      <td>NaN</td>\n",
       "      <td>NaN</td>\n",
       "      <td>NaN</td>\n",
       "      <td>NaN</td>\n",
       "    </tr>\n",
       "  </tbody>\n",
       "</table>\n",
       "</div>"
      ],
      "text/plain": [
       "                                                   0    1    2    3    4    5  \\\n",
       "0  As a thank you to Tesla short sellers, we name...  NaN  NaN  NaN  NaN  NaN   \n",
       "1                                         R2D2’s Dad  NaN  NaN  NaN  NaN  NaN   \n",
       "2  Amazing work by Tesla team. Built entire new g...  NaN  NaN  NaN  NaN  NaN   \n",
       "3  .@cgpgrey drives a Tesla across the loneliest ...  NaN  NaN  NaN  NaN  NaN   \n",
       "4  We don’t make much money on this product, so $...  NaN  NaN  NaN  NaN  NaN   \n",
       "\n",
       "     6  \n",
       "0  NaN  \n",
       "1  NaN  \n",
       "2  NaN  \n",
       "3  NaN  \n",
       "4  NaN  "
      ]
     },
     "execution_count": 2,
     "metadata": {},
     "output_type": "execute_result"
    }
   ],
   "source": [
    "from fastai.text import *\n",
    "import pandas as pd\n",
    "\n",
    "data = pd.read_fwf(\"../data/individual/elonmusk.txt\", header=None)\n",
    "data = data[data[0].notna()]\n",
    "data.head()"
   ]
  },
  {
   "cell_type": "markdown",
   "metadata": {},
   "source": [
    "## Load and explore data"
   ]
  },
  {
   "cell_type": "code",
   "execution_count": 3,
   "metadata": {},
   "outputs": [
    {
     "data": {
      "text/html": [],
      "text/plain": [
       "<IPython.core.display.HTML object>"
      ]
     },
     "metadata": {},
     "output_type": "display_data"
    },
    {
     "data": {
      "text/html": [],
      "text/plain": [
       "<IPython.core.display.HTML object>"
      ]
     },
     "metadata": {},
     "output_type": "display_data"
    },
    {
     "name": "stderr",
     "output_type": "stream",
     "text": [
      "/Users/leviv/opt/anaconda3/lib/python3.8/site-packages/fastai/text/data.py:339: UserWarning: This overload of nonzero is deprecated:\n",
      "\tnonzero()\n",
      "Consider using one of the following signatures instead:\n",
      "\tnonzero(*, bool as_tuple) (Triggered internally at  /Users/distiller/project/conda/conda-bld/pytorch_1603740477510/work/torch/csrc/utils/python_arg_parser.cpp:882.)\n",
      "  idx_min = (t != self.pad_idx).nonzero().min()\n"
     ]
    },
    {
     "data": {
      "text/html": [
       "<table border=\"1\" class=\"dataframe\">\n",
       "  <thead>\n",
       "    <tr style=\"text-align: right;\">\n",
       "      <th>idx</th>\n",
       "      <th>text</th>\n",
       "    </tr>\n",
       "  </thead>\n",
       "  <tbody>\n",
       "    <tr>\n",
       "      <td>0</td>\n",
       "      <td>xxbos xxunk drives a xxmaj tesla across the xxunk road in xxmaj america xxbos xxmaj we do n’t make much money on this product , so $ 1000 actually means a lot xxbos xxmaj exciting to see some xxmaj tesla collision repair xxunk already completing within 24 hrs . xxmaj aiming for same day soon , then under an hour . xxbos xxmaj to activate the xxmaj model x holiday</td>\n",
       "    </tr>\n",
       "    <tr>\n",
       "      <td>1</td>\n",
       "      <td>falcon 9 in background on 40 xxbos xxmaj xxunk make good points xxbos got xxunk xxunk leaked xxbos xxmaj rocket soft landed in the ocean within 10 m of target &amp; &amp; xxunk vertical ! xxmaj high probability of good droneship landing in non - stormy weather . xxbos xxmaj tracking shot of xxmaj falcon water landing xxbos xxmaj sunset at the xxmaj gigafactory xxbos xxmaj that was a total</td>\n",
       "    </tr>\n",
       "    <tr>\n",
       "      <td>2</td>\n",
       "      <td>are underappreciated xxbos xxmaj most people do n’t know that the xxmaj tesla xxmaj supercharger network allows easy long distance travel throughout xxup xxunk , most of xxmaj europe , xxmaj canada and xxmaj china xxbos xxmaj that 's not just xxunk ( a xxunk xxunk at times ) . xxmaj tesla really is under massive xxunk by short sellers xxbos spacex will go public at some point , as</td>\n",
       "    </tr>\n",
       "    <tr>\n",
       "      <td>3</td>\n",
       "      <td>am against xxunk of violence &amp; &amp; xxunk xxunk in any xxunk . xxmaj please do not use them in my name or at all . xxbos xxmaj xxunk car and xxunk across xxmaj london . xxmaj super fun ! xxmaj next time minus the xxunk xxunk . xxbos xxmaj price increase for xxmaj tesla xxup fsd postponed until version 10 with smart summon is in wide release , which</td>\n",
       "    </tr>\n",
       "    <tr>\n",
       "      <td>4</td>\n",
       "      <td>going at xxunk speed , we still xxunk sign xxbos xxmaj launching third flight of this xxmaj dragon spacecraft to @space_station tomorrow xxbos xxmaj in other xxunk , you may be able to get a xxmaj tesla before the $ xxunk xxup us tax credit drops in 2 weeks , even if you have n’t placed an order yet xxbos xxmaj wow , amazing xxmaj tesla xxunk drive happening xxbos</td>\n",
       "    </tr>\n",
       "  </tbody>\n",
       "</table>"
      ],
      "text/plain": [
       "<IPython.core.display.HTML object>"
      ]
     },
     "metadata": {},
     "output_type": "display_data"
    }
   ],
   "source": [
    "data = (TextList.from_df(data, cols=0)\n",
    "                .split_by_rand_pct(0.1)\n",
    "               .label_for_lm()  \n",
    "                .databunch(bs=48))\n",
    "\n",
    "data.show_batch()"
   ]
  },
  {
   "cell_type": "markdown",
   "metadata": {},
   "source": [
    "## Create deep learning model"
   ]
  },
  {
   "cell_type": "code",
   "execution_count": 4,
   "metadata": {},
   "outputs": [
    {
     "data": {
      "text/html": [
       "\n",
       "    <div>\n",
       "        <style>\n",
       "            /* Turns off some styling */\n",
       "            progress {\n",
       "                /* gets rid of default border in Firefox and Opera. */\n",
       "                border: none;\n",
       "                /* Needs to be in here for Safari polyfill so background images work as expected. */\n",
       "                background-size: auto;\n",
       "            }\n",
       "            .progress-bar-interrupted, .progress-bar-interrupted::-webkit-progress-bar {\n",
       "                background: #F44336;\n",
       "            }\n",
       "        </style>\n",
       "      <progress value='5' class='' max='6' style='width:300px; height:20px; vertical-align: middle;'></progress>\n",
       "      83.33% [5/6 05:38<01:07]\n",
       "    </div>\n",
       "    \n",
       "<table border=\"1\" class=\"dataframe\">\n",
       "  <thead>\n",
       "    <tr style=\"text-align: left;\">\n",
       "      <th>epoch</th>\n",
       "      <th>train_loss</th>\n",
       "      <th>valid_loss</th>\n",
       "      <th>accuracy</th>\n",
       "      <th>time</th>\n",
       "    </tr>\n",
       "  </thead>\n",
       "  <tbody>\n",
       "    <tr>\n",
       "      <td>0</td>\n",
       "      <td>5.467640</td>\n",
       "      <td>#na#</td>\n",
       "      <td>01:09</td>\n",
       "    </tr>\n",
       "    <tr>\n",
       "      <td>1</td>\n",
       "      <td>5.467825</td>\n",
       "      <td>#na#</td>\n",
       "      <td>01:05</td>\n",
       "    </tr>\n",
       "    <tr>\n",
       "      <td>2</td>\n",
       "      <td>5.453100</td>\n",
       "      <td>#na#</td>\n",
       "      <td>01:06</td>\n",
       "    </tr>\n",
       "    <tr>\n",
       "      <td>3</td>\n",
       "      <td>5.254123</td>\n",
       "      <td>#na#</td>\n",
       "      <td>01:09</td>\n",
       "    </tr>\n",
       "    <tr>\n",
       "      <td>4</td>\n",
       "      <td>4.907007</td>\n",
       "      <td>#na#</td>\n",
       "      <td>01:08</td>\n",
       "    </tr>\n",
       "  </tbody>\n",
       "</table><p>\n",
       "\n",
       "    <div>\n",
       "        <style>\n",
       "            /* Turns off some styling */\n",
       "            progress {\n",
       "                /* gets rid of default border in Firefox and Opera. */\n",
       "                border: none;\n",
       "                /* Needs to be in here for Safari polyfill so background images work as expected. */\n",
       "                background-size: auto;\n",
       "            }\n",
       "            .progress-bar-interrupted, .progress-bar-interrupted::-webkit-progress-bar {\n",
       "                background: #F44336;\n",
       "            }\n",
       "        </style>\n",
       "      <progress value='14' class='' max='17' style='width:300px; height:20px; vertical-align: middle;'></progress>\n",
       "      82.35% [14/17 01:06<00:14 8.7931]\n",
       "    </div>\n",
       "    "
      ],
      "text/plain": [
       "<IPython.core.display.HTML object>"
      ]
     },
     "metadata": {},
     "output_type": "display_data"
    },
    {
     "name": "stdout",
     "output_type": "stream",
     "text": [
      "LR Finder is complete, type {learner_name}.recorder.plot() to see the graph.\n"
     ]
    },
    {
     "data": {
      "text/html": [
       "<table border=\"1\" class=\"dataframe\">\n",
       "  <thead>\n",
       "    <tr style=\"text-align: left;\">\n",
       "      <th>epoch</th>\n",
       "      <th>train_loss</th>\n",
       "      <th>valid_loss</th>\n",
       "      <th>accuracy</th>\n",
       "      <th>time</th>\n",
       "    </tr>\n",
       "  </thead>\n",
       "  <tbody>\n",
       "    <tr>\n",
       "      <td>0</td>\n",
       "      <td>4.925531</td>\n",
       "      <td>4.252031</td>\n",
       "      <td>0.270833</td>\n",
       "      <td>01:11</td>\n",
       "    </tr>\n",
       "  </tbody>\n",
       "</table>"
      ],
      "text/plain": [
       "<IPython.core.display.HTML object>"
      ]
     },
     "metadata": {},
     "output_type": "display_data"
    },
    {
     "data": {
      "image/png": "[encoded data removed]",
      "text/plain": [
       "<Figure size 432x288 with 1 Axes>"
      ]
     },
     "metadata": {
      "needs_background": "light"
     },
     "output_type": "display_data"
    }
   ],
   "source": [
    "# Create deep learning model\n",
    "learn = language_model_learner(data, AWD_LSTM, drop_mult=0.3, model_dir = '/tmp/work')\n",
    "\n",
    "# select the appropriate learning rate\n",
    "learn.lr_find()\n",
    "\n",
    "# we typically find the point where the slope is steepest\n",
    "learn.recorder.plot(skip_end=15)\n",
    "\n",
    "# Fit the model based on selected learning rate\n",
    "learn.fit_one_cycle(1, 1e-2, moms=(0.8,0.7))\n",
    "\n",
    "# Predict Tweets starting from the given words \n",
    "N_WORDS = 20"
   ]
  },
  {
   "cell_type": "code",
   "execution_count": 5,
   "metadata": {},
   "outputs": [
    {
     "data": {
      "text/plain": [
       "['Climate change will be important in America , where there is a risk of climate change , so climate change is a',\n",
       " 'Climate change will take place in North America and Europe is on the side of the cool and cool sea',\n",
       " 'Climate change will change Climate Change Climate global warming ( CLIMATE change ) . Climate change will increase',\n",
       " 'Climate change will be heavy on Earth , but will cause at least one better climate change . In each climate',\n",
       " 'Climate change will best be achieved by adding a climate change system that will create climate change . Climate change is what',\n",
       " 'Climate change will be a significant factor in climate change . Climate change will increase and increase the climate change , and',\n",
       " 'Climate change will cause a climate change . We need to change our climate , not even climate change . But',\n",
       " 'Climate change will be a major feature of Climate change , but Climate change will soon be a factor in climate',\n",
       " 'Climate change will be a major factor in climate change in South America , with the low global warming , as',\n",
       " 'Climate change will be a significant factor in future climate change , as it affects climate change . Climate change needs to',\n",
       " 'Climate change will affect climate change and climate change in Europe . Climate change should be a carbon tax of carbon',\n",
       " 'Climate change will affect life and life , affect climate change , and climate change can help to end climate change .',\n",
       " 'Climate change will do long while Climate change is a \" change \" . The climate change is the same ,',\n",
       " 'Climate change will allow people to form a true climate change , better environment , greater difference in climate change , and climate',\n",
       " 'Climate change will be a factor in any future climate change , only the future of climate change is expected . This',\n",
       " 'Climate change will be a major factor in climate change , but climate change is not a problem at all . Climate',\n",
       " 'Climate change will help create new climate change climate change , climate change , climate change , climate change , climate change ,',\n",
       " 'Climate change will still be stable , so Climate change will be more likely to affect the future than the climate change',\n",
       " 'Climate change will be a serious factor in climate change , as the energy level has higher , would be lower in the',\n",
       " 'Climate change will be important for future climate change , with climate change in the late past , and the climate change to',\n",
       " 'Climate change will affect the future of climate change , so Climate change is more likely to affect climate change .',\n",
       " 'Climate change will improve on climate change , global warming , climate change , climate change , climate change , climate change ,',\n",
       " 'Climate change will be a key factor in Climate change planning . Change of climate is also important for Climate',\n",
       " 'Climate change will affect life , so the climate change will be less energy than climate change . The change in climate',\n",
       " 'Climate change will cause the climate change of global warming , including climate change , climate change , climate change , climate change',\n",
       " 'Climate change will need to be a change in climate change . Climate change is an important factor . Climate change',\n",
       " 'Climate change will affect the future of climate change , which will affect climate change and climate change . Climate change will',\n",
       " \"Climate change will be expected to increase by 10 % than Earth 's future . If climate change is more affected\",\n",
       " 'Climate change will be a major factor in Climate change . Climate change will usually be the reason why climate change',\n",
       " 'Climate change will be a major issue because of the increasing climate change and the size of life needed for climate change .']"
      ]
     },
     "execution_count": 5,
     "metadata": {},
     "output_type": "execute_result"
    }
   ],
   "source": [
    "preds = []\n",
    "for i in range(0,30):\n",
    "    p = learn.predict(\"Climate change will\", N_WORDS, temperature=0.75)\n",
    "    preds.append(p)\n",
    "\n",
    "preds"
   ]
  },
  {
   "cell_type": "code",
   "execution_count": 6,
   "metadata": {},
   "outputs": [
    {
     "data": {
      "text/html": [],
      "text/plain": [
       "<IPython.core.display.HTML object>"
      ]
     },
     "metadata": {},
     "output_type": "display_data"
    },
    {
     "data": {
      "text/html": [],
      "text/plain": [
       "<IPython.core.display.HTML object>"
      ]
     },
     "metadata": {},
     "output_type": "display_data"
    },
    {
     "name": "stdout",
     "output_type": "stream",
     "text": [
      "Climate change will cause climate change , to change climate change and climate change . Climate change is the source of climate\n"
     ]
    }
   ],
   "source": [
    "learn.export('elonmusk.pkl')\n",
    "\n",
    "x = load_learner('', 'elonmusk.pkl')\n",
    "print(x.predict(\"Climate change will\", N_WORDS, temperature=0.75))"
   ]
  },
  {
   "cell_type": "code",
   "execution_count": null,
   "metadata": {},
   "outputs": [],
   "source": []
  }
 ],
 "metadata": {
  "kernelspec": {
   "display_name": "Python 3",
   "language": "python",
   "name": "python3"
  },
  "language_info": {
   "codemirror_mode": {
    "name": "ipython",
    "version": 3
   },
   "file_extension": ".py",
   "mimetype": "text/x-python",
   "name": "python",
   "nbconvert_exporter": "python",
   "pygments_lexer": "ipython3",
   "version": "3.8.3"
  }
 },
 "nbformat": 4,
 "nbformat_minor": 4
}
