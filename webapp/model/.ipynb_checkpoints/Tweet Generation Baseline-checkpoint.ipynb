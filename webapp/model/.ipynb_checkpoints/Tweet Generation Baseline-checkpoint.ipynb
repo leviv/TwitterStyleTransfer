{
 "cells": [
  {
   "cell_type": "markdown",
   "metadata": {},
   "source": [
    "# Tweet Generation Baseline"
   ]
  },
  {
   "cell_type": "code",
   "execution_count": 1,
   "metadata": {},
   "outputs": [
    {
     "name": "stdout",
     "output_type": "stream",
     "text": [
      "Requirement already satisfied: fastai==1.0.61 in /Users/leviv/opt/anaconda3/lib/python3.8/site-packages (1.0.61)\n",
      "Requirement already satisfied: fastprogress>=0.2.1 in /Users/leviv/opt/anaconda3/lib/python3.8/site-packages (from fastai==1.0.61) (1.0.0)\n",
      "Requirement already satisfied: bottleneck in /Users/leviv/opt/anaconda3/lib/python3.8/site-packages (from fastai==1.0.61) (1.3.2)\n",
      "Requirement already satisfied: torchvision in /Users/leviv/opt/anaconda3/lib/python3.8/site-packages (from fastai==1.0.61) (0.8.1)\n",
      "Requirement already satisfied: requests in /Users/leviv/opt/anaconda3/lib/python3.8/site-packages (from fastai==1.0.61) (2.22.0)\n",
      "Requirement already satisfied: beautifulsoup4 in /Users/leviv/opt/anaconda3/lib/python3.8/site-packages (from fastai==1.0.61) (4.9.1)\n",
      "Requirement already satisfied: Pillow in /Users/leviv/opt/anaconda3/lib/python3.8/site-packages (from fastai==1.0.61) (7.2.0)\n",
      "Requirement already satisfied: scipy in /Users/leviv/opt/anaconda3/lib/python3.8/site-packages (from fastai==1.0.61) (1.5.0)\n",
      "Requirement already satisfied: pandas in /Users/leviv/opt/anaconda3/lib/python3.8/site-packages (from fastai==1.0.61) (1.0.5)\n",
      "Requirement already satisfied: packaging in /Users/leviv/opt/anaconda3/lib/python3.8/site-packages (from fastai==1.0.61) (20.4)\n",
      "Requirement already satisfied: torch>=1.0.0 in /Users/leviv/opt/anaconda3/lib/python3.8/site-packages (from fastai==1.0.61) (1.7.0)\n",
      "Requirement already satisfied: pyyaml in /Users/leviv/opt/anaconda3/lib/python3.8/site-packages (from fastai==1.0.61) (5.3.1)\n",
      "Requirement already satisfied: numexpr in /Users/leviv/opt/anaconda3/lib/python3.8/site-packages (from fastai==1.0.61) (2.7.1)\n",
      "Requirement already satisfied: nvidia-ml-py3 in /Users/leviv/opt/anaconda3/lib/python3.8/site-packages (from fastai==1.0.61) (7.352.0)\n",
      "Requirement already satisfied: pynvx>=1.0.0; platform_system == \"Darwin\" in /Users/leviv/opt/anaconda3/lib/python3.8/site-packages (from fastai==1.0.61) (1.0.0)\n",
      "Requirement already satisfied: matplotlib in /Users/leviv/opt/anaconda3/lib/python3.8/site-packages (from fastai==1.0.61) (3.2.2)\n",
      "Requirement already satisfied: numpy>=1.15 in /Users/leviv/opt/anaconda3/lib/python3.8/site-packages (from fastai==1.0.61) (1.18.5)\n",
      "Requirement already satisfied: idna<2.9,>=2.5 in /Users/leviv/opt/anaconda3/lib/python3.8/site-packages (from requests->fastai==1.0.61) (2.8)\n",
      "Requirement already satisfied: urllib3!=1.25.0,!=1.25.1,<1.26,>=1.21.1 in /Users/leviv/opt/anaconda3/lib/python3.8/site-packages (from requests->fastai==1.0.61) (1.25.9)\n",
      "Requirement already satisfied: chardet<3.1.0,>=3.0.2 in /Users/leviv/opt/anaconda3/lib/python3.8/site-packages (from requests->fastai==1.0.61) (3.0.4)\n",
      "Requirement already satisfied: certifi>=2017.4.17 in /Users/leviv/opt/anaconda3/lib/python3.8/site-packages (from requests->fastai==1.0.61) (2020.6.20)\n",
      "Requirement already satisfied: soupsieve>1.2 in /Users/leviv/opt/anaconda3/lib/python3.8/site-packages (from beautifulsoup4->fastai==1.0.61) (2.0.1)\n",
      "Requirement already satisfied: python-dateutil>=2.6.1 in /Users/leviv/opt/anaconda3/lib/python3.8/site-packages (from pandas->fastai==1.0.61) (2.8.0)\n",
      "Requirement already satisfied: pytz>=2017.2 in /Users/leviv/opt/anaconda3/lib/python3.8/site-packages (from pandas->fastai==1.0.61) (2020.1)\n",
      "Requirement already satisfied: pyparsing>=2.0.2 in /Users/leviv/opt/anaconda3/lib/python3.8/site-packages (from packaging->fastai==1.0.61) (2.4.7)\n",
      "Requirement already satisfied: six in /Users/leviv/opt/anaconda3/lib/python3.8/site-packages (from packaging->fastai==1.0.61) (1.12.0)\n",
      "Requirement already satisfied: future in /Users/leviv/opt/anaconda3/lib/python3.8/site-packages (from torch>=1.0.0->fastai==1.0.61) (0.18.2)\n",
      "Requirement already satisfied: typing_extensions in /Users/leviv/opt/anaconda3/lib/python3.8/site-packages (from torch>=1.0.0->fastai==1.0.61) (3.7.4.2)\n",
      "Requirement already satisfied: dataclasses in /Users/leviv/opt/anaconda3/lib/python3.8/site-packages (from torch>=1.0.0->fastai==1.0.61) (0.6)\n",
      "Requirement already satisfied: kiwisolver>=1.0.1 in /Users/leviv/opt/anaconda3/lib/python3.8/site-packages (from matplotlib->fastai==1.0.61) (1.2.0)\n",
      "Requirement already satisfied: cycler>=0.10 in /Users/leviv/opt/anaconda3/lib/python3.8/site-packages (from matplotlib->fastai==1.0.61) (0.10.0)\n"
     ]
    }
   ],
   "source": [
    "!pip install fastai"
   ]
  },
  {
   "cell_type": "code",
   "execution_count": 2,
   "metadata": {},
   "outputs": [
    {
     "ename": "ModuleNotFoundError",
     "evalue": "No module named 'fastai.text.all'",
     "output_type": "error",
     "traceback": [
      "\u001b[0;31m---------------------------------------------------------------------------\u001b[0m",
      "\u001b[0;31mModuleNotFoundError\u001b[0m                       Traceback (most recent call last)",
      "\u001b[0;32m<ipython-input-2-62af0fc11c9a>\u001b[0m in \u001b[0;36m<module>\u001b[0;34m\u001b[0m\n\u001b[0;32m----> 1\u001b[0;31m \u001b[0;32mfrom\u001b[0m \u001b[0mfastai\u001b[0m\u001b[0;34m.\u001b[0m\u001b[0mtext\u001b[0m\u001b[0;34m.\u001b[0m\u001b[0mall\u001b[0m \u001b[0;32mimport\u001b[0m \u001b[0;34m*\u001b[0m\u001b[0;34m\u001b[0m\u001b[0;34m\u001b[0m\u001b[0m\n\u001b[0m\u001b[1;32m      2\u001b[0m \u001b[0;32mimport\u001b[0m \u001b[0mpandas\u001b[0m \u001b[0;32mas\u001b[0m \u001b[0mpd\u001b[0m\u001b[0;34m\u001b[0m\u001b[0;34m\u001b[0m\u001b[0m\n\u001b[1;32m      3\u001b[0m \u001b[0;34m\u001b[0m\u001b[0m\n\u001b[1;32m      4\u001b[0m \u001b[0mdata\u001b[0m \u001b[0;34m=\u001b[0m \u001b[0mpd\u001b[0m\u001b[0;34m.\u001b[0m\u001b[0mread_fwf\u001b[0m\u001b[0;34m(\u001b[0m\u001b[0;34m\"../data/individual/realDonaldTrump.txt\"\u001b[0m\u001b[0;34m,\u001b[0m \u001b[0mheader\u001b[0m\u001b[0;34m=\u001b[0m\u001b[0;32mNone\u001b[0m\u001b[0;34m)\u001b[0m\u001b[0;34m\u001b[0m\u001b[0;34m\u001b[0m\u001b[0m\n\u001b[1;32m      5\u001b[0m \u001b[0mdata\u001b[0m\u001b[0;34m.\u001b[0m\u001b[0mhead\u001b[0m\u001b[0;34m(\u001b[0m\u001b[0;34m)\u001b[0m\u001b[0;34m\u001b[0m\u001b[0;34m\u001b[0m\u001b[0m\n",
      "\u001b[0;31mModuleNotFoundError\u001b[0m: No module named 'fastai.text.all'"
     ]
    }
   ],
   "source": [
    "from fastai.text.all import *\n",
    "import pandas as pd\n",
    "\n",
    "data = pd.read_fwf(\"../data/individual/realDonaldTrump.txt\", header=None)\n",
    "data.head()"
   ]
  },
  {
   "cell_type": "markdown",
   "metadata": {},
   "source": [
    "## Load and explore data"
   ]
  },
  {
   "cell_type": "code",
   "execution_count": null,
   "metadata": {},
   "outputs": [],
   "source": [
    "data = (TextList.from_df(data, cols='Tweet')\n",
    "                .split_by_rand_pct(0.1)\n",
    "               .label_for_lm()  \n",
    "                .databunch(bs=48))\n",
    "\n",
    "data.show_batch()"
   ]
  },
  {
   "cell_type": "markdown",
   "metadata": {},
   "source": [
    "## Create deep learning model"
   ]
  },
  {
   "cell_type": "code",
   "execution_count": null,
   "metadata": {},
   "outputs": [],
   "source": [
    "# Create deep learning model\n",
    "learn = language_model_learner(data, AWD_LSTM, drop_mult=0.3, model_dir = '/tmp/work')\n",
    "\n",
    "# select the appropriate learning rate\n",
    "learn.lr_find()\n",
    "\n",
    "# we typically find the point where the slope is steepest\n",
    "learn.recorder.plot(skip_end=15)\n",
    "\n",
    "# Fit the model based on selected learning rate\n",
    "learn.fit_one_cycle(1, 1e-2, moms=(0.8,0.7))\n",
    "\n",
    "# Predict Tweets starting from the given words \n",
    "N_WORDS = 20\n",
    "\n",
    "\n",
    "print(learn.predict(\"Clean energy will be\", N_WORDS, temperature=0.75))\n",
    "\n",
    "print(learn.predict(\"Climate change will\", N_WORDS, temperature=0.75))\n",
    "\n",
    "print(learn.predict(\"Tesla is the\", N_WORDS, temperature=0.75))"
   ]
  },
  {
   "cell_type": "code",
   "execution_count": null,
   "metadata": {},
   "outputs": [],
   "source": []
  }
 ],
 "metadata": {
  "kernelspec": {
   "display_name": "Python 3",
   "language": "python",
   "name": "python3"
  },
  "language_info": {
   "codemirror_mode": {
    "name": "ipython",
    "version": 3
   },
   "file_extension": ".py",
   "mimetype": "text/x-python",
   "name": "python",
   "nbconvert_exporter": "python",
   "pygments_lexer": "ipython3",
   "version": "3.8.3"
  }
 },
 "nbformat": 4,
 "nbformat_minor": 4
}
